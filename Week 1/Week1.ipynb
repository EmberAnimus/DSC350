{
 "cells": [
  {
   "cell_type": "markdown",
   "metadata": {},
   "source": [
    "Title: Assignment 1.2\n",
    "Author: Sebastian Rolett\n",
    "Date: 12/2/2022\n",
    "Description: Completes the list of exercises as outlined in the first section of the assignment."
   ]
  },
  {
   "cell_type": "code",
   "execution_count": 6,
   "metadata": {},
   "outputs": [
    {
     "name": "stdout",
     "output_type": "stream",
     "text": [
      "Hello World! I wonder why that is always the default coding text to start with\n",
      "     Task                     Solution\n",
      "0    List  [1, 2, 3, 4, 5, 6, 7, 8, 9]\n",
      "1     Add                            8\n",
      "2     Sub                           -6\n",
      "3  Divide                     0.142857\n",
      "4  Concat  I am string 1 I am string 2\n",
      "5   Tuple                (1, 7, 8, -6)\n",
      "[1, 2, 3, 4, 5, 6, 7, 8, 9, 13]\n"
     ]
    }
   ],
   "source": [
    "import random, pandas as pd\n",
    "NumList = list(range(1,10)) #Completes List of \"4\" Items\n",
    "Num1 = random.choice(NumList)\n",
    "Num2 = random.choice(NumList)\n",
    "Num_add = Num1+Num2 #Adds two numbers\n",
    "Num_sub = Num1-Num2 #Subtracts two numbers\n",
    "Num_divide = Num1/Num2 #Divides two numbers\n",
    "String_Concat = \"I am string 1\" + \" \" + \"I am string 2\" #Concats two strings\n",
    "NumRNG = (Num1,Num2,Num_add,Num_sub)\n",
    "results_list = [[\"List\", NumList], [\"Add\", Num_add], [\"Sub\", Num_sub], [\"Divide\", Num_divide], [\"Concat\", String_Concat], [\"Tuple\", NumRNG]]\n",
    "results = pd.DataFrame(results_list, columns=[\"Task\",\"Solution\"])\n",
    "print(\"Hello World! I wonder why that is always the default coding text to start with\")\n",
    "print(results)\n",
    "NumList.append(random.randint(11,15))\n",
    "print(NumList)"
   ]
  }
 ],
 "metadata": {
  "kernelspec": {
   "display_name": "Python 3.9.9 64-bit",
   "language": "python",
   "name": "python3"
  },
  "language_info": {
   "codemirror_mode": {
    "name": "ipython",
    "version": 3
   },
   "file_extension": ".py",
   "mimetype": "text/x-python",
   "name": "python",
   "nbconvert_exporter": "python",
   "pygments_lexer": "ipython3",
   "version": "3.9.9"
  },
  "orig_nbformat": 4,
  "vscode": {
   "interpreter": {
    "hash": "23b37b2c5ef3af92e6c5a1f41260f4d7d87b94b19a6a0241a9df183c040122f9"
   }
  }
 },
 "nbformat": 4,
 "nbformat_minor": 2
}
